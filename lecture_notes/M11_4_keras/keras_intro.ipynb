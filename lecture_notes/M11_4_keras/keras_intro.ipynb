{
 "cells": [
  {
   "cell_type": "markdown",
   "metadata": {},
   "source": [
    "<img src=\"uva_seal.png\">  "
   ]
  },
  {
   "cell_type": "markdown",
   "metadata": {},
   "source": [
    "## Introduction to Keras\n",
    "### University of Virginia\n",
    "### DS 5110: Big Data Systems\n",
    "### Last Updated: Apr 27, 2021\n",
    "\n",
    "---  \n",
    "\n",
    "\n",
    "### SOURCES: \n",
    "\n",
    "- Keras documentation: https://keras.io\n",
    "- Computer vision source code:  \n",
    "https://colab.research.google.com/github/tensorflow/docs/blob/r2.0rc/site/en/r2/tutorials/quickstart/beginner.ipynb#scrollTo=7FP5258xjs-v\n",
    "\n",
    "Note the source code can be run at that URL.\n",
    "\n",
    "### OBJECTIVES\n",
    "-  Introduction to `Keras`\n",
    "-  Review `Keras` code to perform important neural net calculations, including a computer vision example\n",
    "\n",
    "### CONCEPTS\n",
    "\n",
    "- `Keras` framework\n",
    "\n",
    "\n",
    "- `Sequential` model\n",
    "\n",
    "\n",
    "- Core layers: `Flatten`, `Dense`, `Dropout`\n",
    "\n",
    "---\n"
   ]
  },
  {
   "cell_type": "markdown",
   "metadata": {},
   "source": [
    "### Introduction\n",
    "\n",
    "`Keras` is a Deep Learning framework for Python.  As with all deep learning, it uses neural networks.  The applications are as vast as `TensorFlow`, and it is capable of running on top of `TensorFlow`, `CNTK`, or `Theano`. \n",
    "\n",
    "`Keras` includes very high-level functions, meaning less required code than `TensorFlow`.\n",
    "\n",
    "The core data structure is a `model`, and it organizes the layers.\n",
    "The `Sequential` model is the simplest model, consisting of a linear stack of layers.  The `Keras` functional API allows construction of arbitrary graphs of layers.  Complex architectures are supported including `LSTM` and `CNNs`.\n",
    "\n",
    "Read about the `Sequential API` here:\n",
    "https://keras.io/getting-started/sequential-model-guide/  \n",
    "\n",
    "The link contains a variety of very interesting deep learning examples."
   ]
  },
  {
   "cell_type": "markdown",
   "metadata": {},
   "source": [
    "### Computer Vision Example\n",
    "\n",
    "In this short example, we demonstrate how to apply a neural network model to images from the MNIST database.  This is a famous dataset of handwritten digits 0-9.  I encourage you to refer here to learn more: http://yann.lecun.com/exdb/mnist/.  \n",
    "\n",
    "Refer here to learn about the core layers in `keras`:\n",
    "https://keras.io/layers/core/"
   ]
  },
  {
   "cell_type": "code",
   "execution_count": null,
   "metadata": {},
   "outputs": [],
   "source": [
    "import tensorflow as tf\n",
    "\n",
    "mnist = tf.keras.datasets.mnist\n",
    "\n",
    "# load the MNIST data from TensorFlow\n",
    "# x = pixel values, y = digits 0-9\n",
    "(x_train, y_train), (x_test, y_test) = mnist.load_data()\n",
    "\n",
    "# Scale pixel values to floating points in [0,1]\n",
    "x_train, x_test = x_train / 255.0, x_test / 255.0\n",
    "\n",
    "# Set up neural net with layers: dense -> dropout -> softmax\n",
    "model = tf.keras.models.Sequential([\n",
    "  tf.keras.layers.Flatten(input_shape=(28, 28)),\n",
    "  tf.keras.layers.Dense(128, activation='relu'),\n",
    "  tf.keras.layers.Dropout(0.2),\n",
    "  tf.keras.layers.Dense(10, activation='softmax')\n",
    "])\n",
    "\n",
    "# configure the learning process\n",
    "model.compile(optimizer='adam',\n",
    "              loss='sparse_categorical_crossentropy',\n",
    "              metrics=['accuracy'])\n",
    "\n",
    "# iterate on training in batches\n",
    "model.fit(x_train, y_train, epochs=5, batch_size=32)\n",
    "\n",
    "# compute accuracy on the test set\n",
    "model.evaluate(x_test, y_test)"
   ]
  },
  {
   "cell_type": "markdown",
   "metadata": {},
   "source": [
    "**TRY FOR YOURSELF (UNGRADED EXERCISES)**"
   ]
  },
  {
   "cell_type": "markdown",
   "metadata": {},
   "source": [
    "1) **Convert to Multilayer Perceptron by Adding Layers**  \n",
    "i. Copy the computer vision code in the cell below  \n",
    "ii. Following the `Dropout` layer, add a `Dense` layer with 64 neurons and *relu* activation  \n",
    "iii. Add a `Dropout` layer following your added `Dense` layer, using dropout rate 0.2  \n",
    "iv. Run the model and note the accuracy.  Did it help?"
   ]
  },
  {
   "cell_type": "markdown",
   "metadata": {},
   "source": [
    "2) **Add epochs**  \n",
    "i. Copy the original computer vision code in the cell below  \n",
    "ii. Set epochs to 10  \n",
    "iii. Run the code and note the accuracy.  Did it help?  "
   ]
  },
  {
   "cell_type": "code",
   "execution_count": null,
   "metadata": {},
   "outputs": [],
   "source": []
  }
 ],
 "metadata": {
  "anaconda-cloud": {},
  "kernelspec": {
   "display_name": "DS 5559",
   "language": "python",
   "name": "ds5559"
  },
  "language_info": {
   "codemirror_mode": {
    "name": "ipython",
    "version": 3
   },
   "file_extension": ".py",
   "mimetype": "text/x-python",
   "name": "python",
   "nbconvert_exporter": "python",
   "pygments_lexer": "ipython3",
   "version": "3.7.6"
  }
 },
 "nbformat": 4,
 "nbformat_minor": 4
}
