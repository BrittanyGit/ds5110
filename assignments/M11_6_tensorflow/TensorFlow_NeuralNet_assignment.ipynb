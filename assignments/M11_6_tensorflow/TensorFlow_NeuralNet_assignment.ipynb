{
 "cells": [
  {
   "cell_type": "markdown",
   "metadata": {},
   "source": [
    "### University of Virginia\n",
    "### DS 5110: Big Data Systems\n",
    "### TensorFlow Neural Network Assignment\n",
    "### Last Updated: May 3, 2021"
   ]
  },
  {
   "cell_type": "markdown",
   "metadata": {},
   "source": [
    "### Assignment\n",
    "\n",
    "In this assignment, you will review some code that trains and evaluates a neural network using `TensorFlow`.  You will then run and modify the code to answer the questions below. \n",
    "\n",
    "**TOTAL POINTS: 10**"
   ]
  },
  {
   "cell_type": "markdown",
   "metadata": {},
   "source": [
    "### Source\n",
    "\n",
    "The code to implement this neural network in `TensorFlow` was sourced from this Github repo (under unrestricted license):\n",
    "\n",
    "https://github.com/aymericdamien/TensorFlow-Examples/blob/master/examples/3_NeuralNetworks/neural_network.py\n",
    "\n",
    "I have added some annotation to explain the steps of the process."
   ]
  },
  {
   "cell_type": "markdown",
   "metadata": {},
   "source": [
    "**Background for Understanding the Code**\n",
    "\n",
    "`neural_net()` sets up the architecture and returns the output layer.\n",
    "\n",
    "`model_fn()` sets up the following:\n",
    "- construction of the neural net\n",
    "- `softmax()` layer to produce probabilities for each class\n",
    "- output of the predicted class, which is the class with highest probability\n",
    "- forward propagation and the loss calculation, based on cross entropy\n",
    "- backpropagation and parameter updating using minibatch gradient descent\n",
    "- accuracy calculation\n",
    "\n",
    "`tf.estimator.Estimator` is an `Estimator` class to train and evaluate `TensorFlow` models.  It wraps a model, which is specified by a `model_fn`.\n",
    "\n",
    "`tf.estimator.inputs.numpy_input_fn()` returns an input function that would feed dict of numpy arrays into the model.\n"
   ]
  },
  {
   "cell_type": "markdown",
   "metadata": {},
   "source": [
    "**NOTE**  \n",
    "\n",
    "This URL allows you to easily enter and run TensorFlow code from a browser.  \n",
    "\n",
    "https://colab.research.google.com/github/tensorflow/tensor2tensor/blob/master/tensor2tensor/notebooks/hello_t2t.ipynb#scrollTo=xGUjWehq8Vxq"
   ]
  },
  {
   "cell_type": "markdown",
   "metadata": {},
   "source": [
    "**NEURAL NET CODE**"
   ]
  },
  {
   "cell_type": "code",
   "execution_count": 4,
   "metadata": {},
   "outputs": [
    {
     "name": "stdout",
     "output_type": "stream",
     "text": [
      "Extracting MNIST_data/train-images-idx3-ubyte.gz\n",
      "Extracting MNIST_data/train-labels-idx1-ubyte.gz\n",
      "Extracting MNIST_data/t10k-images-idx3-ubyte.gz\n",
      "Extracting MNIST_data/t10k-labels-idx1-ubyte.gz\n",
      "building estimator definition...\n",
      "INFO:tensorflow:Using default config.\n",
      "WARNING:tensorflow:Using temporary folder as model directory: /tmp/tmpnr8e133h\n",
      "INFO:tensorflow:Using config: {'_model_dir': '/tmp/tmpnr8e133h', '_tf_random_seed': None, '_save_summary_steps': 100, '_save_checkpoints_steps': None, '_save_checkpoints_secs': 600, '_session_config': allow_soft_placement: true\n",
      "graph_options {\n",
      "  rewrite_options {\n",
      "    meta_optimizer_iterations: ONE\n",
      "  }\n",
      "}\n",
      ", '_keep_checkpoint_max': 5, '_keep_checkpoint_every_n_hours': 10000, '_log_step_count_steps': 100, '_train_distribute': None, '_device_fn': None, '_protocol': None, '_eval_distribute': None, '_experimental_distribute': None, '_service': None, '_cluster_spec': <tensorflow.python.training.server_lib.ClusterSpec object at 0x7f6afbceffd0>, '_task_type': 'worker', '_task_id': 0, '_global_id_in_cluster': 0, '_master': '', '_evaluation_master': '', '_is_chief': True, '_num_ps_replicas': 0, '_num_worker_replicas': 1}\n",
      "estimator definition complete\n",
      "defining the input function for training; loading MNIST data...\n",
      "training data setup complete\n",
      "training the model...\n",
      "INFO:tensorflow:Calling model_fn.\n",
      "entering mode: train\n",
      "INFO:tensorflow:Done calling model_fn.\n",
      "INFO:tensorflow:Create CheckpointSaverHook.\n",
      "INFO:tensorflow:Graph was finalized.\n",
      "INFO:tensorflow:Running local_init_op.\n",
      "INFO:tensorflow:Done running local_init_op.\n",
      "INFO:tensorflow:Saving checkpoints for 0 into /tmp/tmpnr8e133h/model.ckpt.\n",
      "INFO:tensorflow:loss = 2.3493166, step = 1\n",
      "INFO:tensorflow:global_step/sec: 171.099\n",
      "INFO:tensorflow:loss = 0.38803995, step = 101 (0.588 sec)\n",
      "INFO:tensorflow:global_step/sec: 179.874\n",
      "INFO:tensorflow:loss = 0.46082503, step = 201 (0.555 sec)\n",
      "INFO:tensorflow:global_step/sec: 177.484\n",
      "INFO:tensorflow:loss = 0.3114062, step = 301 (0.564 sec)\n",
      "INFO:tensorflow:global_step/sec: 178.913\n",
      "INFO:tensorflow:loss = 0.22555117, step = 401 (0.559 sec)\n",
      "INFO:tensorflow:global_step/sec: 179.984\n",
      "INFO:tensorflow:loss = 0.37006372, step = 501 (0.556 sec)\n",
      "INFO:tensorflow:global_step/sec: 180.365\n",
      "INFO:tensorflow:loss = 0.33563703, step = 601 (0.554 sec)\n",
      "INFO:tensorflow:global_step/sec: 176.665\n",
      "INFO:tensorflow:loss = 0.481319, step = 701 (0.566 sec)\n",
      "INFO:tensorflow:global_step/sec: 178.241\n",
      "INFO:tensorflow:loss = 0.21172547, step = 801 (0.561 sec)\n",
      "INFO:tensorflow:global_step/sec: 180.326\n",
      "INFO:tensorflow:loss = 0.31158397, step = 901 (0.555 sec)\n",
      "INFO:tensorflow:Saving checkpoints for 1000 into /tmp/tmpnr8e133h/model.ckpt.\n",
      "INFO:tensorflow:Loss for final step: 0.20084189.\n",
      "model training complete\n",
      "setting up eval data...\n",
      "setting up eval data complete\n",
      "evaluating the model...\n",
      "INFO:tensorflow:Calling model_fn.\n",
      "entering mode: eval\n",
      "INFO:tensorflow:Done calling model_fn.\n",
      "INFO:tensorflow:Starting evaluation at 2021-05-03-13:09:46\n",
      "INFO:tensorflow:Graph was finalized.\n",
      "INFO:tensorflow:Restoring parameters from /tmp/tmpnr8e133h/model.ckpt-1000\n",
      "INFO:tensorflow:Running local_init_op.\n",
      "INFO:tensorflow:Done running local_init_op.\n",
      "INFO:tensorflow:Finished evaluation at 2021-05-03-13:09:46\n",
      "INFO:tensorflow:Saving dict for global step 1000: accuracy = 0.9174, global_step = 1000, loss = 0.29495525\n",
      "INFO:tensorflow:Saving 'checkpoint_path' summary for global step 1000: /tmp/tmpnr8e133h/model.ckpt-1000\n",
      "model evaluation complete\n",
      "Testing Accuracy: 0.9174\n"
     ]
    }
   ],
   "source": [
    "\"\"\" \n",
    "Use TensorFlow to Implement a neural network with 2 hidden layers.\n",
    "This example is using the MNIST database of handwritten digits (http://yann.lecun.com/exdb/mnist/).\n",
    "Links:\n",
    "    [MNIST Dataset](http://yann.lecun.com/exdb/mnist/).\n",
    "Author: Aymeric Damien\n",
    "Project: https://github.com/aymericdamien/TensorFlow-Examples/\n",
    "\"\"\"\n",
    "\n",
    "from __future__ import print_function\n",
    "import tensorflow as tf\n",
    "\n",
    "# Import MNIST data, saving in home directory subfolder\n",
    "from tensorflow.examples.tutorials.mnist import input_data\n",
    "\n",
    "mnist = input_data.read_data_sets(\"MNIST_data/\", one_hot = False)\n",
    "\n",
    "# set up hyperparameters\n",
    "learning_rate = 0.1\n",
    "num_steps = 1000\n",
    "batch_size = 128\n",
    "display_step = 100\n",
    "\n",
    "n_hidden_1 = 256 # number of neurons in first (fully-connected) hidden layer\n",
    "n_hidden_2 = 256 # number of neurons in second (fully-connected) hidden layer\n",
    "num_input = 784 # MNIST data input (image shape: 28*28)\n",
    "num_classes = 10 # MNIST classes (0-9 digits)\n",
    "\n",
    "# Define the neural network\n",
    "def neural_net(x_dict):\n",
    "    # TF Estimator input is a dict, in case of multiple inputs\n",
    "    x = x_dict['images']\n",
    "    # initialize first hidden layer\n",
    "    layer_1 = tf.layers.dense(x, n_hidden_1)\n",
    "    # initialize second hidden layer\n",
    "    layer_2 = tf.layers.dense(layer_1, n_hidden_2)\n",
    "    # initialize output layer, with one neural per class\n",
    "    out_layer = tf.layers.dense(layer_2, num_classes)\n",
    "    return out_layer\n",
    "\n",
    "# Define the model function (following TF Estimator Template)\n",
    "def model_fn(features, labels, mode):\n",
    "\n",
    "    print('entering mode: {}'.format(mode))\n",
    "    \n",
    "    # Build the neural network, returning the output layer (predicted probs)\n",
    "    logits = neural_net(features)\n",
    "\n",
    "    # Predictions\n",
    "    # extract class with highest probability\n",
    "    pred_classes = tf.argmax(logits, axis=1)\n",
    "    # extract the probabilities for each class\n",
    "    pred_probas = tf.nn.softmax(logits)\n",
    "\n",
    "    # If prediction mode, early return\n",
    "    if mode == tf.estimator.ModeKeys.PREDICT:\n",
    "        return tf.estimator.EstimatorSpec(mode, predictions=pred_classes)\n",
    "\n",
    "    # Define loss, using cross entropy\n",
    "    loss_op = tf.reduce_mean(tf.nn.sparse_softmax_cross_entropy_with_logits(\n",
    "        logits=logits, labels=tf.cast(labels, dtype=tf.int32)))\n",
    "    \n",
    "    # Define optimizer, using gradient descent\n",
    "    optimizer = tf.train.GradientDescentOptimizer(learning_rate=learning_rate)\n",
    "    train_op = optimizer.minimize(loss_op,\n",
    "                                  global_step=tf.train.get_global_step())\n",
    "\n",
    "    # Evaluate the accuracy of the model\n",
    "    acc_op = tf.metrics.accuracy(labels=labels, predictions=pred_classes)\n",
    "\n",
    "    # TF Estimators required to return a EstimatorSpec, that specify\n",
    "    # the different ops for training, evaluating, ...\n",
    "    estim_specs = tf.estimator.EstimatorSpec(\n",
    "        mode=mode,\n",
    "        predictions=pred_classes,\n",
    "        loss=loss_op,\n",
    "        train_op=train_op,\n",
    "        eval_metric_ops={'accuracy': acc_op})\n",
    "\n",
    "    return estim_specs\n",
    "\n",
    "print('building estimator definition...')\n",
    "model = tf.estimator.Estimator(model_fn)\n",
    "print('estimator definition complete')\n",
    "\n",
    "print('defining the input function for training; loading MNIST data...')\n",
    "input_fn_train = tf.estimator.inputs.numpy_input_fn(\n",
    "    x={'images': mnist.train.images}, y=mnist.train.labels,\n",
    "    batch_size=batch_size, num_epochs=None, shuffle=True)\n",
    "print('training data setup complete')\n",
    "\n",
    "print('training the model...')\n",
    "model.train(input_fn_train, steps=num_steps)\n",
    "print('model training complete')\n",
    "\n",
    "print('setting up eval data...')\n",
    "input_fn_eval = tf.estimator.inputs.numpy_input_fn(\n",
    "    x={'images': mnist.test.images}, y=mnist.test.labels,\n",
    "    batch_size=batch_size, shuffle=False)\n",
    "print('setting up eval data complete')\n",
    "\n",
    "print('evaluating the model...')\n",
    "e = model.evaluate(input_fn_eval)\n",
    "print('model evaluation complete')\n",
    "\n",
    "print(\"Testing Accuracy:\", e['accuracy'])"
   ]
  },
  {
   "cell_type": "markdown",
   "metadata": {},
   "source": [
    "1) (1 PT) Run the code.  I will check for logging that looks like this:"
   ]
  },
  {
   "cell_type": "code",
   "execution_count": null,
   "metadata": {},
   "outputs": [],
   "source": [
    "building estimator definition...\n",
    "estimator definition complete\n",
    "defining the input function for training; loading MNIST data...\n",
    "training data setup complete\n",
    "training the model...\n",
    "entering mode: train\n",
    "model training complete\n",
    "setting up eval data...\n",
    "setting up eval data complete\n",
    "evaluating the model...\n",
    "entering mode: eval\n",
    "model evaluation complete\n",
    "('Test Accuracy:', 0.916) # this may differ"
   ]
  },
  {
   "cell_type": "markdown",
   "metadata": {},
   "source": [
    "2) (1 PT) Enter the test accuracy in the cell below"
   ]
  },
  {
   "cell_type": "markdown",
   "metadata": {},
   "source": []
  },
  {
   "cell_type": "markdown",
   "metadata": {},
   "source": [
    "3) (1 PT) Change `learning_rate` from **0.1** to **0.2** and report test accuracy below."
   ]
  },
  {
   "cell_type": "markdown",
   "metadata": {},
   "source": []
  },
  {
   "cell_type": "markdown",
   "metadata": {},
   "source": [
    "4) (1 PT) How does this accuracy compare to the original model?  Provide an explanation of why this might occur."
   ]
  },
  {
   "cell_type": "markdown",
   "metadata": {},
   "source": []
  },
  {
   "cell_type": "markdown",
   "metadata": {},
   "source": [
    "5) (1 PT) Change `num_steps` from **1000** to **10** and report the test accuracy below."
   ]
  },
  {
   "cell_type": "markdown",
   "metadata": {},
   "source": []
  },
  {
   "cell_type": "markdown",
   "metadata": {},
   "source": [
    "6) (1 PT) How does this accuracy compare to the original model?  Provide an explanation of why this might occur.  "
   ]
  },
  {
   "cell_type": "markdown",
   "metadata": {},
   "source": []
  },
  {
   "cell_type": "markdown",
   "metadata": {},
   "source": [
    "7) (2 PTS) Change one or more of the hyperparameters to see if you can improve the accuracy of the model.  For your final model, report the changes you made, and the accuracy.  If you cannot improve accuracy, report at least three experiments that you tried, with their accuracies.  Please provide a brief, organized summary."
   ]
  },
  {
   "cell_type": "markdown",
   "metadata": {},
   "source": []
  },
  {
   "cell_type": "code",
   "execution_count": null,
   "metadata": {},
   "outputs": [],
   "source": []
  },
  {
   "cell_type": "markdown",
   "metadata": {},
   "source": [
    "8) (2 pts) Finalize the code in the block below to show the first image in the mnist training set."
   ]
  },
  {
   "cell_type": "code",
   "execution_count": null,
   "metadata": {},
   "outputs": [],
   "source": [
    "# import packages\n",
    "import numpy as np\n",
    "import matplotlib.pyplot as plt\n",
    "\n",
    "first_image = None\n",
    "first_image = np.array(first_image, dtype='float')\n",
    "pixels = first_image.reshape((None, None))\n",
    "plt.imshow(None, cmap='gray')\n",
    "plt.show()"
   ]
  }
 ],
 "metadata": {
  "kernelspec": {
   "display_name": "Tensorflow 1.12/Keras Py3.6",
   "language": "python",
   "name": "tensorflow112_py36"
  },
  "language_info": {
   "codemirror_mode": {
    "name": "ipython",
    "version": 3
   },
   "file_extension": ".py",
   "mimetype": "text/x-python",
   "name": "python",
   "nbconvert_exporter": "python",
   "pygments_lexer": "ipython3",
   "version": "3.6.5"
  }
 },
 "nbformat": 4,
 "nbformat_minor": 4
}
